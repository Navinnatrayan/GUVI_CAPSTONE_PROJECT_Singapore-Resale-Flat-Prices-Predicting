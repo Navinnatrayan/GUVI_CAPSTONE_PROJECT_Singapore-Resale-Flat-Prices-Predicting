{
 "cells": [
  {
   "cell_type": "code",
   "execution_count": 1,
   "id": "c1cb0b27-4dee-4cb7-9202-a83877c55a23",
   "metadata": {},
   "outputs": [],
   "source": [
    "import pandas as pd\n",
    "import numpy as np\n",
    "import os\n",
    "import glob\n",
    "import csv\n",
    "import seaborn as sns\n",
    "import matplotlib.pyplot as plt\n",
    "from sklearn import preprocessing"
   ]
  },
  {
   "cell_type": "code",
   "execution_count": 2,
   "id": "cd586b17-3e24-4277-988f-a861ff770006",
   "metadata": {},
   "outputs": [],
   "source": [
    "# Reading the csv data as dataframes\n",
    "df1=pd.read_csv(r\"C:\\\\Users\\\\navin\\\\OneDrive\\\\Desktop\\\\singapore\\\\ResaleFlatPricesBasedonApprovalDate2000Feb2012.csv\")\n",
    "df2=pd.read_csv(r\"C:\\\\Users\\\\navin\\\\OneDrive\\\\Desktop\\\\singapore\\\\ResaleFlatPricesBasedonApprovalDate19901999.csv\")\n",
    "df3=pd.read_csv(r\"C:\\\\Users\\\\navin\\\\OneDrive\\\\Desktop\\\\singapore\\\\ResaleflatpricesbasedonregistrationdatefromJan2017onwards.csv\")\n",
    "df4=pd.read_csv(r\"C:\\\\Users\\\\navin\\\\OneDrive\\\\Desktop\\\\singapore\\\\ResaleFlatPricesBasedonRegistrationDateFromMar2012toDec2014.csv\")\n",
    "df5=pd.read_csv(r\"C:\\\\Users\\\\navin\\\\OneDrive\\\\Desktop\\\\singapore\\\\ResaleFlatPricesBasedonRegistrationDateFromJan2015toDec2016.csv\")\n"
   ]
  },
  {
   "cell_type": "code",
   "execution_count": 3,
   "id": "8e988214-c6a5-4859-b9ef-5acbe7696cb1",
   "metadata": {},
   "outputs": [
    {
     "name": "stdout",
     "output_type": "stream",
     "text": [
      "(369651, 10)\n",
      "(287196, 10)\n",
      "(169174, 11)\n",
      "(52203, 10)\n",
      "(37153, 11)\n"
     ]
    }
   ],
   "source": [
    "# Shape of each dataframes\n",
    "dfs=[df1,df2,df3,df4,df5]\n",
    "for i in dfs:\n",
    "    print(i.shape)"
   ]
  },
  {
   "cell_type": "code",
   "execution_count": 4,
   "id": "cd4bfbc2-0f69-4574-9158-87f9d15d91cb",
   "metadata": {},
   "outputs": [],
   "source": [
    "# Concating all dataframes to a single dataframe\n",
    "df=pd.concat([df1,df2,df3,df4,df5],ignore_index=True)"
   ]
  },
  {
   "cell_type": "code",
   "execution_count": 5,
   "id": "f039fac2-efeb-4c92-9080-d0c3eb5eef7f",
   "metadata": {},
   "outputs": [
    {
     "data": {
      "text/html": [
       "<div>\n",
       "<style scoped>\n",
       "    .dataframe tbody tr th:only-of-type {\n",
       "        vertical-align: middle;\n",
       "    }\n",
       "\n",
       "    .dataframe tbody tr th {\n",
       "        vertical-align: top;\n",
       "    }\n",
       "\n",
       "    .dataframe thead th {\n",
       "        text-align: right;\n",
       "    }\n",
       "</style>\n",
       "<table border=\"1\" class=\"dataframe\">\n",
       "  <thead>\n",
       "    <tr style=\"text-align: right;\">\n",
       "      <th></th>\n",
       "      <th>month</th>\n",
       "      <th>town</th>\n",
       "      <th>flat_type</th>\n",
       "      <th>block</th>\n",
       "      <th>street_name</th>\n",
       "      <th>storey_range</th>\n",
       "      <th>floor_area_sqm</th>\n",
       "      <th>flat_model</th>\n",
       "      <th>lease_commence_date</th>\n",
       "      <th>resale_price</th>\n",
       "      <th>remaining_lease</th>\n",
       "    </tr>\n",
       "  </thead>\n",
       "  <tbody>\n",
       "    <tr>\n",
       "      <th>0</th>\n",
       "      <td>2000-01</td>\n",
       "      <td>ANG MO KIO</td>\n",
       "      <td>3 ROOM</td>\n",
       "      <td>170</td>\n",
       "      <td>ANG MO KIO AVE 4</td>\n",
       "      <td>07 TO 09</td>\n",
       "      <td>69.0</td>\n",
       "      <td>Improved</td>\n",
       "      <td>1986</td>\n",
       "      <td>147000.0</td>\n",
       "      <td>NaN</td>\n",
       "    </tr>\n",
       "    <tr>\n",
       "      <th>1</th>\n",
       "      <td>2000-01</td>\n",
       "      <td>ANG MO KIO</td>\n",
       "      <td>3 ROOM</td>\n",
       "      <td>174</td>\n",
       "      <td>ANG MO KIO AVE 4</td>\n",
       "      <td>04 TO 06</td>\n",
       "      <td>61.0</td>\n",
       "      <td>Improved</td>\n",
       "      <td>1986</td>\n",
       "      <td>144000.0</td>\n",
       "      <td>NaN</td>\n",
       "    </tr>\n",
       "    <tr>\n",
       "      <th>2</th>\n",
       "      <td>2000-01</td>\n",
       "      <td>ANG MO KIO</td>\n",
       "      <td>3 ROOM</td>\n",
       "      <td>216</td>\n",
       "      <td>ANG MO KIO AVE 1</td>\n",
       "      <td>07 TO 09</td>\n",
       "      <td>73.0</td>\n",
       "      <td>New Generation</td>\n",
       "      <td>1976</td>\n",
       "      <td>159000.0</td>\n",
       "      <td>NaN</td>\n",
       "    </tr>\n",
       "    <tr>\n",
       "      <th>3</th>\n",
       "      <td>2000-01</td>\n",
       "      <td>ANG MO KIO</td>\n",
       "      <td>3 ROOM</td>\n",
       "      <td>215</td>\n",
       "      <td>ANG MO KIO AVE 1</td>\n",
       "      <td>07 TO 09</td>\n",
       "      <td>73.0</td>\n",
       "      <td>New Generation</td>\n",
       "      <td>1976</td>\n",
       "      <td>167000.0</td>\n",
       "      <td>NaN</td>\n",
       "    </tr>\n",
       "    <tr>\n",
       "      <th>4</th>\n",
       "      <td>2000-01</td>\n",
       "      <td>ANG MO KIO</td>\n",
       "      <td>3 ROOM</td>\n",
       "      <td>218</td>\n",
       "      <td>ANG MO KIO AVE 1</td>\n",
       "      <td>07 TO 09</td>\n",
       "      <td>67.0</td>\n",
       "      <td>New Generation</td>\n",
       "      <td>1976</td>\n",
       "      <td>163000.0</td>\n",
       "      <td>NaN</td>\n",
       "    </tr>\n",
       "    <tr>\n",
       "      <th>...</th>\n",
       "      <td>...</td>\n",
       "      <td>...</td>\n",
       "      <td>...</td>\n",
       "      <td>...</td>\n",
       "      <td>...</td>\n",
       "      <td>...</td>\n",
       "      <td>...</td>\n",
       "      <td>...</td>\n",
       "      <td>...</td>\n",
       "      <td>...</td>\n",
       "      <td>...</td>\n",
       "    </tr>\n",
       "    <tr>\n",
       "      <th>915372</th>\n",
       "      <td>2016-12</td>\n",
       "      <td>YISHUN</td>\n",
       "      <td>5 ROOM</td>\n",
       "      <td>297</td>\n",
       "      <td>YISHUN ST 20</td>\n",
       "      <td>13 TO 15</td>\n",
       "      <td>112.0</td>\n",
       "      <td>Improved</td>\n",
       "      <td>2000</td>\n",
       "      <td>488000.0</td>\n",
       "      <td>82</td>\n",
       "    </tr>\n",
       "    <tr>\n",
       "      <th>915373</th>\n",
       "      <td>2016-12</td>\n",
       "      <td>YISHUN</td>\n",
       "      <td>5 ROOM</td>\n",
       "      <td>838</td>\n",
       "      <td>YISHUN ST 81</td>\n",
       "      <td>01 TO 03</td>\n",
       "      <td>122.0</td>\n",
       "      <td>Improved</td>\n",
       "      <td>1987</td>\n",
       "      <td>455000.0</td>\n",
       "      <td>69</td>\n",
       "    </tr>\n",
       "    <tr>\n",
       "      <th>915374</th>\n",
       "      <td>2016-12</td>\n",
       "      <td>YISHUN</td>\n",
       "      <td>EXECUTIVE</td>\n",
       "      <td>664</td>\n",
       "      <td>YISHUN AVE 4</td>\n",
       "      <td>10 TO 12</td>\n",
       "      <td>181.0</td>\n",
       "      <td>Apartment</td>\n",
       "      <td>1992</td>\n",
       "      <td>778000.0</td>\n",
       "      <td>74</td>\n",
       "    </tr>\n",
       "    <tr>\n",
       "      <th>915375</th>\n",
       "      <td>2016-12</td>\n",
       "      <td>YISHUN</td>\n",
       "      <td>EXECUTIVE</td>\n",
       "      <td>325</td>\n",
       "      <td>YISHUN CTRL</td>\n",
       "      <td>01 TO 03</td>\n",
       "      <td>146.0</td>\n",
       "      <td>Maisonette</td>\n",
       "      <td>1988</td>\n",
       "      <td>575000.0</td>\n",
       "      <td>70</td>\n",
       "    </tr>\n",
       "    <tr>\n",
       "      <th>915376</th>\n",
       "      <td>2016-12</td>\n",
       "      <td>YISHUN</td>\n",
       "      <td>MULTI-GENERATION</td>\n",
       "      <td>666</td>\n",
       "      <td>YISHUN AVE 4</td>\n",
       "      <td>10 TO 12</td>\n",
       "      <td>164.0</td>\n",
       "      <td>Multi Generation</td>\n",
       "      <td>1987</td>\n",
       "      <td>735000.0</td>\n",
       "      <td>70</td>\n",
       "    </tr>\n",
       "  </tbody>\n",
       "</table>\n",
       "<p>915377 rows × 11 columns</p>\n",
       "</div>"
      ],
      "text/plain": [
       "          month        town         flat_type block       street_name  \\\n",
       "0       2000-01  ANG MO KIO            3 ROOM   170  ANG MO KIO AVE 4   \n",
       "1       2000-01  ANG MO KIO            3 ROOM   174  ANG MO KIO AVE 4   \n",
       "2       2000-01  ANG MO KIO            3 ROOM   216  ANG MO KIO AVE 1   \n",
       "3       2000-01  ANG MO KIO            3 ROOM   215  ANG MO KIO AVE 1   \n",
       "4       2000-01  ANG MO KIO            3 ROOM   218  ANG MO KIO AVE 1   \n",
       "...         ...         ...               ...   ...               ...   \n",
       "915372  2016-12      YISHUN            5 ROOM   297      YISHUN ST 20   \n",
       "915373  2016-12      YISHUN            5 ROOM   838      YISHUN ST 81   \n",
       "915374  2016-12      YISHUN         EXECUTIVE   664      YISHUN AVE 4   \n",
       "915375  2016-12      YISHUN         EXECUTIVE   325       YISHUN CTRL   \n",
       "915376  2016-12      YISHUN  MULTI-GENERATION   666      YISHUN AVE 4   \n",
       "\n",
       "       storey_range  floor_area_sqm        flat_model  lease_commence_date  \\\n",
       "0          07 TO 09            69.0          Improved                 1986   \n",
       "1          04 TO 06            61.0          Improved                 1986   \n",
       "2          07 TO 09            73.0    New Generation                 1976   \n",
       "3          07 TO 09            73.0    New Generation                 1976   \n",
       "4          07 TO 09            67.0    New Generation                 1976   \n",
       "...             ...             ...               ...                  ...   \n",
       "915372     13 TO 15           112.0          Improved                 2000   \n",
       "915373     01 TO 03           122.0          Improved                 1987   \n",
       "915374     10 TO 12           181.0         Apartment                 1992   \n",
       "915375     01 TO 03           146.0        Maisonette                 1988   \n",
       "915376     10 TO 12           164.0  Multi Generation                 1987   \n",
       "\n",
       "        resale_price remaining_lease  \n",
       "0           147000.0             NaN  \n",
       "1           144000.0             NaN  \n",
       "2           159000.0             NaN  \n",
       "3           167000.0             NaN  \n",
       "4           163000.0             NaN  \n",
       "...              ...             ...  \n",
       "915372      488000.0              82  \n",
       "915373      455000.0              69  \n",
       "915374      778000.0              74  \n",
       "915375      575000.0              70  \n",
       "915376      735000.0              70  \n",
       "\n",
       "[915377 rows x 11 columns]"
      ]
     },
     "execution_count": 5,
     "metadata": {},
     "output_type": "execute_result"
    }
   ],
   "source": [
    "# Shape of the final dataframe\n",
    "df"
   ]
  },
  {
   "cell_type": "code",
   "execution_count": 6,
   "id": "6ffe6aa8-3bd1-4214-b602-81390fd50fed",
   "metadata": {},
   "outputs": [
    {
     "data": {
      "text/html": [
       "<div>\n",
       "<style scoped>\n",
       "    .dataframe tbody tr th:only-of-type {\n",
       "        vertical-align: middle;\n",
       "    }\n",
       "\n",
       "    .dataframe tbody tr th {\n",
       "        vertical-align: top;\n",
       "    }\n",
       "\n",
       "    .dataframe thead th {\n",
       "        text-align: right;\n",
       "    }\n",
       "</style>\n",
       "<table border=\"1\" class=\"dataframe\">\n",
       "  <thead>\n",
       "    <tr style=\"text-align: right;\">\n",
       "      <th></th>\n",
       "      <th>month</th>\n",
       "      <th>town</th>\n",
       "      <th>flat_type</th>\n",
       "      <th>block</th>\n",
       "      <th>street_name</th>\n",
       "      <th>storey_range</th>\n",
       "      <th>floor_area_sqm</th>\n",
       "      <th>flat_model</th>\n",
       "      <th>lease_commence_date</th>\n",
       "      <th>resale_price</th>\n",
       "      <th>remaining_lease</th>\n",
       "    </tr>\n",
       "  </thead>\n",
       "  <tbody>\n",
       "    <tr>\n",
       "      <th>0</th>\n",
       "      <td>2000-01</td>\n",
       "      <td>ANG MO KIO</td>\n",
       "      <td>3 ROOM</td>\n",
       "      <td>170</td>\n",
       "      <td>ANG MO KIO AVE 4</td>\n",
       "      <td>07 TO 09</td>\n",
       "      <td>69.0</td>\n",
       "      <td>Improved</td>\n",
       "      <td>1986</td>\n",
       "      <td>147000.0</td>\n",
       "      <td>NaN</td>\n",
       "    </tr>\n",
       "    <tr>\n",
       "      <th>1</th>\n",
       "      <td>2000-01</td>\n",
       "      <td>ANG MO KIO</td>\n",
       "      <td>3 ROOM</td>\n",
       "      <td>174</td>\n",
       "      <td>ANG MO KIO AVE 4</td>\n",
       "      <td>04 TO 06</td>\n",
       "      <td>61.0</td>\n",
       "      <td>Improved</td>\n",
       "      <td>1986</td>\n",
       "      <td>144000.0</td>\n",
       "      <td>NaN</td>\n",
       "    </tr>\n",
       "    <tr>\n",
       "      <th>2</th>\n",
       "      <td>2000-01</td>\n",
       "      <td>ANG MO KIO</td>\n",
       "      <td>3 ROOM</td>\n",
       "      <td>216</td>\n",
       "      <td>ANG MO KIO AVE 1</td>\n",
       "      <td>07 TO 09</td>\n",
       "      <td>73.0</td>\n",
       "      <td>New Generation</td>\n",
       "      <td>1976</td>\n",
       "      <td>159000.0</td>\n",
       "      <td>NaN</td>\n",
       "    </tr>\n",
       "    <tr>\n",
       "      <th>3</th>\n",
       "      <td>2000-01</td>\n",
       "      <td>ANG MO KIO</td>\n",
       "      <td>3 ROOM</td>\n",
       "      <td>215</td>\n",
       "      <td>ANG MO KIO AVE 1</td>\n",
       "      <td>07 TO 09</td>\n",
       "      <td>73.0</td>\n",
       "      <td>New Generation</td>\n",
       "      <td>1976</td>\n",
       "      <td>167000.0</td>\n",
       "      <td>NaN</td>\n",
       "    </tr>\n",
       "    <tr>\n",
       "      <th>4</th>\n",
       "      <td>2000-01</td>\n",
       "      <td>ANG MO KIO</td>\n",
       "      <td>3 ROOM</td>\n",
       "      <td>218</td>\n",
       "      <td>ANG MO KIO AVE 1</td>\n",
       "      <td>07 TO 09</td>\n",
       "      <td>67.0</td>\n",
       "      <td>New Generation</td>\n",
       "      <td>1976</td>\n",
       "      <td>163000.0</td>\n",
       "      <td>NaN</td>\n",
       "    </tr>\n",
       "  </tbody>\n",
       "</table>\n",
       "</div>"
      ],
      "text/plain": [
       "     month        town flat_type block       street_name storey_range  \\\n",
       "0  2000-01  ANG MO KIO    3 ROOM   170  ANG MO KIO AVE 4     07 TO 09   \n",
       "1  2000-01  ANG MO KIO    3 ROOM   174  ANG MO KIO AVE 4     04 TO 06   \n",
       "2  2000-01  ANG MO KIO    3 ROOM   216  ANG MO KIO AVE 1     07 TO 09   \n",
       "3  2000-01  ANG MO KIO    3 ROOM   215  ANG MO KIO AVE 1     07 TO 09   \n",
       "4  2000-01  ANG MO KIO    3 ROOM   218  ANG MO KIO AVE 1     07 TO 09   \n",
       "\n",
       "   floor_area_sqm      flat_model  lease_commence_date  resale_price  \\\n",
       "0            69.0        Improved                 1986      147000.0   \n",
       "1            61.0        Improved                 1986      144000.0   \n",
       "2            73.0  New Generation                 1976      159000.0   \n",
       "3            73.0  New Generation                 1976      167000.0   \n",
       "4            67.0  New Generation                 1976      163000.0   \n",
       "\n",
       "  remaining_lease  \n",
       "0             NaN  \n",
       "1             NaN  \n",
       "2             NaN  \n",
       "3             NaN  \n",
       "4             NaN  "
      ]
     },
     "execution_count": 6,
     "metadata": {},
     "output_type": "execute_result"
    }
   ],
   "source": [
    "# Checking the head of the dataframe    \n",
    "df.head()"
   ]
  },
  {
   "cell_type": "code",
   "execution_count": 7,
   "id": "6351c651-b477-499d-808e-347aa6e35c46",
   "metadata": {},
   "outputs": [
    {
     "data": {
      "text/html": [
       "<div>\n",
       "<style scoped>\n",
       "    .dataframe tbody tr th:only-of-type {\n",
       "        vertical-align: middle;\n",
       "    }\n",
       "\n",
       "    .dataframe tbody tr th {\n",
       "        vertical-align: top;\n",
       "    }\n",
       "\n",
       "    .dataframe thead th {\n",
       "        text-align: right;\n",
       "    }\n",
       "</style>\n",
       "<table border=\"1\" class=\"dataframe\">\n",
       "  <thead>\n",
       "    <tr style=\"text-align: right;\">\n",
       "      <th></th>\n",
       "      <th>month</th>\n",
       "      <th>town</th>\n",
       "      <th>flat_type</th>\n",
       "      <th>block</th>\n",
       "      <th>street_name</th>\n",
       "      <th>storey_range</th>\n",
       "      <th>floor_area_sqm</th>\n",
       "      <th>flat_model</th>\n",
       "      <th>lease_commence_date</th>\n",
       "      <th>resale_price</th>\n",
       "      <th>remaining_lease</th>\n",
       "    </tr>\n",
       "  </thead>\n",
       "  <tbody>\n",
       "    <tr>\n",
       "      <th>915372</th>\n",
       "      <td>2016-12</td>\n",
       "      <td>YISHUN</td>\n",
       "      <td>5 ROOM</td>\n",
       "      <td>297</td>\n",
       "      <td>YISHUN ST 20</td>\n",
       "      <td>13 TO 15</td>\n",
       "      <td>112.0</td>\n",
       "      <td>Improved</td>\n",
       "      <td>2000</td>\n",
       "      <td>488000.0</td>\n",
       "      <td>82</td>\n",
       "    </tr>\n",
       "    <tr>\n",
       "      <th>915373</th>\n",
       "      <td>2016-12</td>\n",
       "      <td>YISHUN</td>\n",
       "      <td>5 ROOM</td>\n",
       "      <td>838</td>\n",
       "      <td>YISHUN ST 81</td>\n",
       "      <td>01 TO 03</td>\n",
       "      <td>122.0</td>\n",
       "      <td>Improved</td>\n",
       "      <td>1987</td>\n",
       "      <td>455000.0</td>\n",
       "      <td>69</td>\n",
       "    </tr>\n",
       "    <tr>\n",
       "      <th>915374</th>\n",
       "      <td>2016-12</td>\n",
       "      <td>YISHUN</td>\n",
       "      <td>EXECUTIVE</td>\n",
       "      <td>664</td>\n",
       "      <td>YISHUN AVE 4</td>\n",
       "      <td>10 TO 12</td>\n",
       "      <td>181.0</td>\n",
       "      <td>Apartment</td>\n",
       "      <td>1992</td>\n",
       "      <td>778000.0</td>\n",
       "      <td>74</td>\n",
       "    </tr>\n",
       "    <tr>\n",
       "      <th>915375</th>\n",
       "      <td>2016-12</td>\n",
       "      <td>YISHUN</td>\n",
       "      <td>EXECUTIVE</td>\n",
       "      <td>325</td>\n",
       "      <td>YISHUN CTRL</td>\n",
       "      <td>01 TO 03</td>\n",
       "      <td>146.0</td>\n",
       "      <td>Maisonette</td>\n",
       "      <td>1988</td>\n",
       "      <td>575000.0</td>\n",
       "      <td>70</td>\n",
       "    </tr>\n",
       "    <tr>\n",
       "      <th>915376</th>\n",
       "      <td>2016-12</td>\n",
       "      <td>YISHUN</td>\n",
       "      <td>MULTI-GENERATION</td>\n",
       "      <td>666</td>\n",
       "      <td>YISHUN AVE 4</td>\n",
       "      <td>10 TO 12</td>\n",
       "      <td>164.0</td>\n",
       "      <td>Multi Generation</td>\n",
       "      <td>1987</td>\n",
       "      <td>735000.0</td>\n",
       "      <td>70</td>\n",
       "    </tr>\n",
       "  </tbody>\n",
       "</table>\n",
       "</div>"
      ],
      "text/plain": [
       "          month    town         flat_type block   street_name storey_range  \\\n",
       "915372  2016-12  YISHUN            5 ROOM   297  YISHUN ST 20     13 TO 15   \n",
       "915373  2016-12  YISHUN            5 ROOM   838  YISHUN ST 81     01 TO 03   \n",
       "915374  2016-12  YISHUN         EXECUTIVE   664  YISHUN AVE 4     10 TO 12   \n",
       "915375  2016-12  YISHUN         EXECUTIVE   325   YISHUN CTRL     01 TO 03   \n",
       "915376  2016-12  YISHUN  MULTI-GENERATION   666  YISHUN AVE 4     10 TO 12   \n",
       "\n",
       "        floor_area_sqm        flat_model  lease_commence_date  resale_price  \\\n",
       "915372           112.0          Improved                 2000      488000.0   \n",
       "915373           122.0          Improved                 1987      455000.0   \n",
       "915374           181.0         Apartment                 1992      778000.0   \n",
       "915375           146.0        Maisonette                 1988      575000.0   \n",
       "915376           164.0  Multi Generation                 1987      735000.0   \n",
       "\n",
       "       remaining_lease  \n",
       "915372              82  \n",
       "915373              69  \n",
       "915374              74  \n",
       "915375              70  \n",
       "915376              70  "
      ]
     },
     "execution_count": 7,
     "metadata": {},
     "output_type": "execute_result"
    }
   ],
   "source": [
    "# Checking the tail of the dataframe\n",
    "df.tail()"
   ]
  },
  {
   "cell_type": "code",
   "execution_count": 8,
   "id": "f647617c-5a59-4393-8a5b-f5a8b0505e2d",
   "metadata": {},
   "outputs": [
    {
     "data": {
      "text/plain": [
       "(915377, 11)"
      ]
     },
     "execution_count": 8,
     "metadata": {},
     "output_type": "execute_result"
    }
   ],
   "source": [
    "# Checking the shape of the dataframe\n",
    "df.shape"
   ]
  },
  {
   "cell_type": "code",
   "execution_count": 9,
   "id": "891fd9f6-1ab4-4e95-ad04-2256ce4dc785",
   "metadata": {},
   "outputs": [
    {
     "name": "stdout",
     "output_type": "stream",
     "text": [
      "<class 'pandas.core.frame.DataFrame'>\n",
      "RangeIndex: 915377 entries, 0 to 915376\n",
      "Data columns (total 11 columns):\n",
      " #   Column               Non-Null Count   Dtype  \n",
      "---  ------               --------------   -----  \n",
      " 0   month                915377 non-null  object \n",
      " 1   town                 915377 non-null  object \n",
      " 2   flat_type            915377 non-null  object \n",
      " 3   block                915377 non-null  object \n",
      " 4   street_name          915377 non-null  object \n",
      " 5   storey_range         915377 non-null  object \n",
      " 6   floor_area_sqm       915377 non-null  float64\n",
      " 7   flat_model           915377 non-null  object \n",
      " 8   lease_commence_date  915377 non-null  int64  \n",
      " 9   resale_price         915377 non-null  float64\n",
      " 10  remaining_lease      206327 non-null  object \n",
      "dtypes: float64(2), int64(1), object(8)\n",
      "memory usage: 76.8+ MB\n"
     ]
    }
   ],
   "source": [
    "# Checking the Information of the dataframe\n",
    "df.info()"
   ]
  },
  {
   "cell_type": "code",
   "execution_count": 10,
   "id": "7f288b87-e5ae-4322-af9f-1ba4db0cae8a",
   "metadata": {},
   "outputs": [
    {
     "name": "stdout",
     "output_type": "stream",
     "text": [
      "month :  408 labels\n",
      "town :  27 labels\n",
      "flat_type :  8 labels\n",
      "block :  2699 labels\n",
      "street_name :  584 labels\n",
      "storey_range :  25 labels\n",
      "floor_area_sqm :  210 labels\n",
      "flat_model :  34 labels\n",
      "lease_commence_date :  56 labels\n",
      "resale_price :  9348 labels\n",
      "remaining_lease :  720 labels\n"
     ]
    }
   ],
   "source": [
    "# Checking the number of labels in each column\n",
    "for col in df.columns[0:]:\n",
    "    print(col, ': ', (df[col].nunique()), 'labels')"
   ]
  },
  {
   "cell_type": "code",
   "execution_count": 11,
   "id": "d7f3b434-ab95-4c25-bc9d-e48813324132",
   "metadata": {},
   "outputs": [
    {
     "data": {
      "text/plain": [
       "month                       0\n",
       "town                        0\n",
       "flat_type                   0\n",
       "block                       0\n",
       "street_name                 0\n",
       "storey_range                0\n",
       "floor_area_sqm              0\n",
       "flat_model                  0\n",
       "lease_commence_date         0\n",
       "resale_price                0\n",
       "remaining_lease        709050\n",
       "dtype: int64"
      ]
     },
     "execution_count": 11,
     "metadata": {},
     "output_type": "execute_result"
    }
   ],
   "source": [
    "# Checking for missing values\n",
    "df.isna().sum()"
   ]
  },
  {
   "cell_type": "code",
   "execution_count": 12,
   "id": "a8a4f141-8f5b-4703-b8b7-4418667a21d1",
   "metadata": {},
   "outputs": [],
   "source": [
    "# droping remaining_lease\n",
    "df = df.drop(columns='remaining_lease')"
   ]
  },
  {
   "cell_type": "code",
   "execution_count": 13,
   "id": "0ad46979-6c2f-47fe-a848-3db57cc3671a",
   "metadata": {},
   "outputs": [
    {
     "data": {
      "text/plain": [
       "month                  0\n",
       "town                   0\n",
       "flat_type              0\n",
       "block                  0\n",
       "street_name            0\n",
       "storey_range           0\n",
       "floor_area_sqm         0\n",
       "flat_model             0\n",
       "lease_commence_date    0\n",
       "resale_price           0\n",
       "dtype: int64"
      ]
     },
     "execution_count": 13,
     "metadata": {},
     "output_type": "execute_result"
    }
   ],
   "source": [
    "# After droping the remaining_lease column\n",
    "df.isna().sum()"
   ]
  },
  {
   "cell_type": "code",
   "execution_count": 14,
   "id": "2da6b447-5a04-44a3-93b0-0d319ba76b30",
   "metadata": {},
   "outputs": [
    {
     "data": {
      "image/png": "[encoded data removed]",
      "text/plain": [
       "<Figure size 640x480 with 1 Axes>"
      ]
     },
     "metadata": {},
     "output_type": "display_data"
    }
   ],
   "source": [
    "# Visualize the distribution of the resale price column\n",
    "sns.histplot(df['resale_price'], bins = 20)\n",
    "plt.title('Distribution of resale price')\n",
    "# plt.grid()\n",
    "plt.show()"
   ]
  },
  {
   "cell_type": "code",
   "execution_count": 15,
   "id": "82553ba1-88da-42f4-9e34-be35caf19771",
   "metadata": {},
   "outputs": [
    {
     "data": {
      "image/png": "[encoded data removed]",
      "text/plain": [
       "<Figure size 640x480 with 1 Axes>"
      ]
     },
     "metadata": {},
     "output_type": "display_data"
    }
   ],
   "source": [
    "# Visualize the distribution of the floor area sqm column\n",
    "sns.histplot(df['floor_area_sqm'], bins = 20)\n",
    "plt.title('Distribution of floor area sqm')\n",
    "# plt.grid()\n",
    "plt.show()"
   ]
  },
  {
   "cell_type": "code",
   "execution_count": 16,
   "id": "8d56b448-98cb-4739-b0c1-53e7d4bc27a6",
   "metadata": {},
   "outputs": [
    {
     "data": {
      "text/plain": [
       "flat_type\n",
       "4 ROOM              347301\n",
       "3 ROOM              293091\n",
       "5 ROOM              192727\n",
       "EXECUTIVE            68928\n",
       "2 ROOM               11491\n",
       "1 ROOM                1300\n",
       "MULTI GENERATION       279\n",
       "MULTI-GENERATION       260\n",
       "Name: count, dtype: int64"
      ]
     },
     "execution_count": 16,
     "metadata": {},
     "output_type": "execute_result"
    }
   ],
   "source": [
    "df['flat_type'].value_counts()"
   ]
  },
  {
   "cell_type": "code",
   "execution_count": 17,
   "id": "875c32e2-8f32-4306-a713-42b609e78516",
   "metadata": {},
   "outputs": [
    {
     "data": {
      "text/plain": [
       "<Axes: xlabel='flat_type'>"
      ]
     },
     "execution_count": 17,
     "metadata": {},
     "output_type": "execute_result"
    },
    {
     "data": {
      "image/png": "[encoded data removed]",
      "text/plain": [
       "<Figure size 640x480 with 1 Axes>"
      ]
     },
     "metadata": {},
     "output_type": "display_data"
    }
   ],
   "source": [
    "df['flat_type'].value_counts().plot(kind = 'bar')"
   ]
  },
  {
   "cell_type": "code",
   "execution_count": 18,
   "id": "3c7ec335-8c60-437f-b540-9195683bd964",
   "metadata": {},
   "outputs": [
    {
     "data": {
      "text/plain": [
       "array(['3 ROOM', '4 ROOM', '5 ROOM', 'EXECUTIVE', '2 ROOM',\n",
       "       'MULTI-GENERATION', '1 ROOM', 'MULTI GENERATION'], dtype=object)"
      ]
     },
     "execution_count": 18,
     "metadata": {},
     "output_type": "execute_result"
    }
   ],
   "source": [
    "# Unique lables in flat_type column\n",
    "df['flat_type'].unique()"
   ]
  },
  {
   "cell_type": "code",
   "execution_count": 19,
   "id": "fcd52994-a484-453e-b78b-87271aee364c",
   "metadata": {},
   "outputs": [
    {
     "data": {
      "text/plain": [
       "array(['3 ROOM', '4 ROOM', '5 ROOM', 'EXECUTIVE', '2 ROOM',\n",
       "       'MULTI GENERATION', '1 ROOM'], dtype=object)"
      ]
     },
     "execution_count": 19,
     "metadata": {},
     "output_type": "execute_result"
    }
   ],
   "source": [
    "\n",
    "# Collapsing the flat_type categories\n",
    "mapping={'MULTI-GENERATION':'MULTI GENERATION'}\n",
    "\n",
    "df['flat_type'] = df['flat_type'].replace(mapping)\n",
    "df['flat_type'].unique()"
   ]
  },
  {
   "cell_type": "code",
   "execution_count": 20,
   "id": "e9c0af7c-8032-41f0-ad74-0d04a8856481",
   "metadata": {},
   "outputs": [
    {
     "data": {
      "image/png": "[encoded data removed]",
      "text/plain": [
       "<Figure size 640x480 with 1 Axes>"
      ]
     },
     "metadata": {},
     "output_type": "display_data"
    }
   ],
   "source": [
    "# Visualize the distribution of the flat_type column\n",
    "sns.barplot(x = df['flat_type'], y = df['resale_price'])\n",
    "plt.xlabel('Flat Type')\n",
    "plt.ylabel('Price')\n",
    "plt.show()\n"
   ]
  },
  {
   "cell_type": "code",
   "execution_count": 21,
   "id": "03102e45-8090-4e01-9486-f557d73dc65d",
   "metadata": {},
   "outputs": [
    {
     "data": {
      "text/plain": [
       "flat_type\n",
       "4    347301\n",
       "3    293091\n",
       "5    192727\n",
       "6     68928\n",
       "2     11491\n",
       "1      1300\n",
       "7       539\n",
       "Name: count, dtype: int64"
      ]
     },
     "execution_count": 21,
     "metadata": {},
     "output_type": "execute_result"
    }
   ],
   "source": [
    "# Assigning the value-pairs to be replaced\n",
    "cat = {'1 ROOM': 1,\n",
    "       '2 ROOM':2,\n",
    "       '3 ROOM':3,\n",
    "       '4 ROOM':4,\n",
    "       '5 ROOM':5,\n",
    "       'EXECUTIVE':6,\n",
    "       'MULTI GENERATION':7}\n",
    "\n",
    "# Replacing the values in df\n",
    "df['flat_type'] = df['flat_type'].replace(cat)\n",
    "df['flat_type'].value_counts()"
   ]
  },
  {
   "cell_type": "code",
   "execution_count": 22,
   "id": "50256d9c-ba0c-422e-a74b-2d54018f0b3e",
   "metadata": {},
   "outputs": [
    {
     "name": "stdout",
     "output_type": "stream",
     "text": [
      "34\n"
     ]
    },
    {
     "data": {
      "text/plain": [
       "array(['Improved', 'New Generation', 'Model A', 'Standard', 'Apartment',\n",
       "       'Simplified', 'Model A-Maisonette', 'Maisonette',\n",
       "       'Multi Generation', 'Adjoined flat', 'Premium Apartment',\n",
       "       'Terrace', 'Improved-Maisonette', 'Premium Maisonette', '2-room',\n",
       "       'Model A2', 'IMPROVED', 'NEW GENERATION', 'MODEL A', 'STANDARD',\n",
       "       'SIMPLIFIED', 'MODEL A-MAISONETTE', 'APARTMENT', 'MAISONETTE',\n",
       "       'TERRACE', '2-ROOM', 'IMPROVED-MAISONETTE', 'MULTI GENERATION',\n",
       "       'PREMIUM APARTMENT', 'DBSS', 'Type S1', 'Type S2',\n",
       "       'Premium Apartment Loft', '3Gen'], dtype=object)"
      ]
     },
     "execution_count": 22,
     "metadata": {},
     "output_type": "execute_result"
    }
   ],
   "source": [
    "# Visualize the distribution of the flat_type column\n",
    "print(df['flat_model'].nunique())\n",
    "df['flat_model'].unique()"
   ]
  },
  {
   "cell_type": "code",
   "execution_count": 23,
   "id": "f87522d5-d604-4503-b9bd-989c28d163e5",
   "metadata": {},
   "outputs": [],
   "source": [
    "# Converting the flat_model column to lowercase\n",
    "df['flat_model'] = df['flat_model'].str.lower()"
   ]
  },
  {
   "cell_type": "code",
   "execution_count": 24,
   "id": "ad94cd03-01bc-4268-88d9-f3a7e403efdd",
   "metadata": {},
   "outputs": [
    {
     "data": {
      "text/plain": [
       "21"
      ]
     },
     "execution_count": 24,
     "metadata": {},
     "output_type": "execute_result"
    }
   ],
   "source": [
    "# Unique lables in flat_model column\n",
    "df['flat_model'].nunique()"
   ]
  },
  {
   "cell_type": "code",
   "execution_count": 25,
   "id": "f27f0a70-77a8-4db0-89e8-848047b586ab",
   "metadata": {},
   "outputs": [
    {
     "data": {
      "text/plain": [
       "flat_model\n",
       "model a                   260410\n",
       "improved                  239038\n",
       "new generation            187620\n",
       "simplified                 57141\n",
       "premium apartment          45603\n",
       "standard                   42282\n",
       "apartment                  35119\n",
       "maisonette                 29362\n",
       "model a2                   10008\n",
       "dbss                        3186\n",
       "model a-maisonette          2056\n",
       "adjoined flat               1234\n",
       "terrace                      688\n",
       "multi generation             539\n",
       "type s1                      430\n",
       "type s2                      212\n",
       "improved-maisonette          125\n",
       "2-room                       108\n",
       "premium apartment loft       104\n",
       "premium maisonette            86\n",
       "3gen                          26\n",
       "Name: count, dtype: int64"
      ]
     },
     "execution_count": 25,
     "metadata": {},
     "output_type": "execute_result"
    }
   ],
   "source": [
    "# Visualize the distribution of the flat_model column\n",
    "df['flat_model'].value_counts()\n"
   ]
  },
  {
   "cell_type": "code",
   "execution_count": 26,
   "id": "e9f89b30-e937-4748-86d0-c9899d8d3892",
   "metadata": {},
   "outputs": [],
   "source": [
    "# Encoding flat_model column\n",
    "le = preprocessing.LabelEncoder()\n",
    "\n",
    "flat_modelcode= le.fit_transform(df['flat_model'])\n",
    "df.insert(loc = 8,\n",
    "          column = 'flat_modelcode',\n",
    "          value = flat_modelcode)"
   ]
  },
  {
   "cell_type": "code",
   "execution_count": 27,
   "id": "79ab2bc9-62e3-49a3-895c-91213633c08f",
   "metadata": {},
   "outputs": [
    {
     "data": {
      "text/plain": [
       "flat_modelcode\n",
       "8     260410\n",
       "5     239038\n",
       "12    187620\n",
       "16     57141\n",
       "13     45603\n",
       "17     42282\n",
       "3      35119\n",
       "7      29362\n",
       "10     10008\n",
       "4       3186\n",
       "9       2056\n",
       "2       1234\n",
       "18       688\n",
       "11       539\n",
       "19       430\n",
       "20       212\n",
       "6        125\n",
       "0        108\n",
       "14       104\n",
       "15        86\n",
       "1         26\n",
       "Name: count, dtype: int64"
      ]
     },
     "execution_count": 27,
     "metadata": {},
     "output_type": "execute_result"
    }
   ],
   "source": [
    "df['flat_modelcode'].value_counts()"
   ]
  },
  {
   "cell_type": "code",
   "execution_count": 28,
   "id": "ad2bdbc3-a4ab-4d4b-9ead-4cbfa183e3c0",
   "metadata": {},
   "outputs": [
    {
     "data": {
      "text/plain": [
       "27"
      ]
     },
     "execution_count": 28,
     "metadata": {},
     "output_type": "execute_result"
    }
   ],
   "source": [
    "# Town column \n",
    "df['town'].nunique()"
   ]
  },
  {
   "cell_type": "code",
   "execution_count": 29,
   "id": "37f86ed5-f4d9-44be-9bf4-9c93e50c7ffb",
   "metadata": {},
   "outputs": [
    {
     "data": {
      "text/plain": [
       "town\n",
       "TAMPINES           79133\n",
       "YISHUN             69258\n",
       "BEDOK              66082\n",
       "JURONG WEST        65825\n",
       "WOODLANDS          64675\n",
       "ANG MO KIO         51658\n",
       "HOUGANG            50072\n",
       "BUKIT BATOK        43676\n",
       "CHOA CHU KANG      37768\n",
       "BUKIT MERAH        33915\n",
       "PASIR RIS          32924\n",
       "SENGKANG           31630\n",
       "TOA PAYOH          31217\n",
       "QUEENSTOWN         28487\n",
       "GEYLANG            27938\n",
       "CLEMENTI           27803\n",
       "BUKIT PANJANG      27339\n",
       "KALLANG/WHAMPOA    26832\n",
       "JURONG EAST        24537\n",
       "SERANGOON          22636\n",
       "BISHAN             21118\n",
       "PUNGGOL            19810\n",
       "SEMBAWANG          13432\n",
       "MARINE PARADE       7986\n",
       "CENTRAL AREA        7073\n",
       "BUKIT TIMAH         2489\n",
       "LIM CHU KANG          64\n",
       "Name: count, dtype: int64"
      ]
     },
     "execution_count": 29,
     "metadata": {},
     "output_type": "execute_result"
    }
   ],
   "source": [
    "# Visualize the distribution of the town column\n",
    "df['town'].value_counts()"
   ]
  },
  {
   "cell_type": "code",
   "execution_count": 30,
   "id": "fb025b3a-e34f-4740-81ce-e194e96f54e5",
   "metadata": {},
   "outputs": [],
   "source": [
    "# Creating a column with encoded value\n",
    "town_code = le.fit_transform(df['town'])\n",
    "df.insert(loc = 2,\n",
    "          column = 'town_code',\n",
    "          value = town_code)"
   ]
  },
  {
   "cell_type": "code",
   "execution_count": 31,
   "id": "ff4ddbaf-8b2e-4578-a3b1-0efc1eeafdf1",
   "metadata": {},
   "outputs": [
    {
     "data": {
      "text/plain": [
       "town_code\n",
       "23    79133\n",
       "26    69258\n",
       "1     66082\n",
       "13    65825\n",
       "25    64675\n",
       "0     51658\n",
       "11    50072\n",
       "3     43676\n",
       "8     37768\n",
       "4     33915\n",
       "17    32924\n",
       "21    31630\n",
       "24    31217\n",
       "19    28487\n",
       "10    27938\n",
       "9     27803\n",
       "5     27339\n",
       "14    26832\n",
       "12    24537\n",
       "22    22636\n",
       "2     21118\n",
       "18    19810\n",
       "20    13432\n",
       "16     7986\n",
       "7      7073\n",
       "6      2489\n",
       "15       64\n",
       "Name: count, dtype: int64"
      ]
     },
     "execution_count": 31,
     "metadata": {},
     "output_type": "execute_result"
    }
   ],
   "source": [
    "# Encoded value coun\n",
    "df['town_code'].value_counts()"
   ]
  },
  {
   "cell_type": "code",
   "execution_count": 32,
   "id": "d4de2dce-92ba-4dd0-8ca2-87d1d29a829a",
   "metadata": {},
   "outputs": [
    {
     "data": {
      "text/plain": [
       "0    07 TO 09\n",
       "1    04 TO 06\n",
       "2    07 TO 09\n",
       "3    07 TO 09\n",
       "4    07 TO 09\n",
       "Name: storey_range, dtype: object"
      ]
     },
     "execution_count": 32,
     "metadata": {},
     "output_type": "execute_result"
    }
   ],
   "source": [
    "# Print header of column\n",
    "df['storey_range'].head()"
   ]
  },
  {
   "cell_type": "code",
   "execution_count": 33,
   "id": "28ffba9c-6d70-4ef8-8dde-72ba5f5bdf1e",
   "metadata": {},
   "outputs": [
    {
     "data": {
      "text/html": [
       "<div>\n",
       "<style scoped>\n",
       "    .dataframe tbody tr th:only-of-type {\n",
       "        vertical-align: middle;\n",
       "    }\n",
       "\n",
       "    .dataframe tbody tr th {\n",
       "        vertical-align: top;\n",
       "    }\n",
       "\n",
       "    .dataframe thead th {\n",
       "        text-align: right;\n",
       "    }\n",
       "</style>\n",
       "<table border=\"1\" class=\"dataframe\">\n",
       "  <thead>\n",
       "    <tr style=\"text-align: right;\">\n",
       "      <th></th>\n",
       "      <th>0</th>\n",
       "      <th>1</th>\n",
       "    </tr>\n",
       "  </thead>\n",
       "  <tbody>\n",
       "    <tr>\n",
       "      <th>0</th>\n",
       "      <td>07</td>\n",
       "      <td>09</td>\n",
       "    </tr>\n",
       "    <tr>\n",
       "      <th>1</th>\n",
       "      <td>04</td>\n",
       "      <td>06</td>\n",
       "    </tr>\n",
       "    <tr>\n",
       "      <th>2</th>\n",
       "      <td>07</td>\n",
       "      <td>09</td>\n",
       "    </tr>\n",
       "    <tr>\n",
       "      <th>3</th>\n",
       "      <td>07</td>\n",
       "      <td>09</td>\n",
       "    </tr>\n",
       "    <tr>\n",
       "      <th>4</th>\n",
       "      <td>07</td>\n",
       "      <td>09</td>\n",
       "    </tr>\n",
       "  </tbody>\n",
       "</table>\n",
       "</div>"
      ],
      "text/plain": [
       "    0   1\n",
       "0  07  09\n",
       "1  04  06\n",
       "2  07  09\n",
       "3  07  09\n",
       "4  07  09"
      ]
     },
     "execution_count": 33,
     "metadata": {},
     "output_type": "execute_result"
    }
   ],
   "source": [
    "# Splitting storey range column\n",
    "storey=df['storey_range'].str.split(' TO ',expand = True)\n",
    "storey.head()"
   ]
  },
  {
   "cell_type": "code",
   "execution_count": 34,
   "id": "129bc3a1-4856-4a8a-a67d-0256c1a2be17",
   "metadata": {},
   "outputs": [],
   "source": [
    "# Creating the storey minimum values as column\n",
    "df.insert(loc = 6,\n",
    "          column = 'storey_min',\n",
    "          value = storey[0])"
   ]
  },
  {
   "cell_type": "code",
   "execution_count": 35,
   "id": "0367726c-2225-4633-85d5-f193f0bc719a",
   "metadata": {},
   "outputs": [],
   "source": [
    "# Creating the storey maximum values as column\n",
    "df.insert(loc = 7,\n",
    "          column = 'storey_max',\n",
    "          value = storey[1])"
   ]
  },
  {
   "cell_type": "code",
   "execution_count": 36,
   "id": "fb7eab18-e38d-42b9-b36d-dda893204b26",
   "metadata": {},
   "outputs": [
    {
     "data": {
      "text/html": [
       "<div>\n",
       "<style scoped>\n",
       "    .dataframe tbody tr th:only-of-type {\n",
       "        vertical-align: middle;\n",
       "    }\n",
       "\n",
       "    .dataframe tbody tr th {\n",
       "        vertical-align: top;\n",
       "    }\n",
       "\n",
       "    .dataframe thead th {\n",
       "        text-align: right;\n",
       "    }\n",
       "</style>\n",
       "<table border=\"1\" class=\"dataframe\">\n",
       "  <thead>\n",
       "    <tr style=\"text-align: right;\">\n",
       "      <th></th>\n",
       "      <th>0</th>\n",
       "      <th>1</th>\n",
       "    </tr>\n",
       "  </thead>\n",
       "  <tbody>\n",
       "    <tr>\n",
       "      <th>0</th>\n",
       "      <td>2000</td>\n",
       "      <td>01</td>\n",
       "    </tr>\n",
       "    <tr>\n",
       "      <th>1</th>\n",
       "      <td>2000</td>\n",
       "      <td>01</td>\n",
       "    </tr>\n",
       "    <tr>\n",
       "      <th>2</th>\n",
       "      <td>2000</td>\n",
       "      <td>01</td>\n",
       "    </tr>\n",
       "    <tr>\n",
       "      <th>3</th>\n",
       "      <td>2000</td>\n",
       "      <td>01</td>\n",
       "    </tr>\n",
       "    <tr>\n",
       "      <th>4</th>\n",
       "      <td>2000</td>\n",
       "      <td>01</td>\n",
       "    </tr>\n",
       "  </tbody>\n",
       "</table>\n",
       "</div>"
      ],
      "text/plain": [
       "      0   1\n",
       "0  2000  01\n",
       "1  2000  01\n",
       "2  2000  01\n",
       "3  2000  01\n",
       "4  2000  01"
      ]
     },
     "execution_count": 36,
     "metadata": {},
     "output_type": "execute_result"
    }
   ],
   "source": [
    "# Splitting month column\n",
    "month=df['month'].str.split('-',expand = True)\n",
    "month.head()"
   ]
  },
  {
   "cell_type": "code",
   "execution_count": 37,
   "id": "03dc2d93-4702-4cf3-b5c6-2411c6af0a60",
   "metadata": {},
   "outputs": [],
   "source": [
    "# Creating the year values as column\n",
    "df.insert(loc = 1,\n",
    "          column = 'selling_year',\n",
    "          value = month[0])"
   ]
  },
  {
   "cell_type": "code",
   "execution_count": 38,
   "id": "fe52bc67-7a75-4d2e-a39d-c804459792ed",
   "metadata": {},
   "outputs": [],
   "source": [
    "# Creating the storey maximum values as column\n",
    "df.insert(loc = 2,\n",
    "          column = 'selling_month',\n",
    "          value = month[1])"
   ]
  },
  {
   "cell_type": "code",
   "execution_count": 39,
   "id": "f22695fa-07e6-4015-82a6-9520beb2b00b",
   "metadata": {},
   "outputs": [
    {
     "data": {
      "text/html": [
       "<div>\n",
       "<style scoped>\n",
       "    .dataframe tbody tr th:only-of-type {\n",
       "        vertical-align: middle;\n",
       "    }\n",
       "\n",
       "    .dataframe tbody tr th {\n",
       "        vertical-align: top;\n",
       "    }\n",
       "\n",
       "    .dataframe thead th {\n",
       "        text-align: right;\n",
       "    }\n",
       "</style>\n",
       "<table border=\"1\" class=\"dataframe\">\n",
       "  <thead>\n",
       "    <tr style=\"text-align: right;\">\n",
       "      <th></th>\n",
       "      <th>month</th>\n",
       "      <th>selling_year</th>\n",
       "      <th>selling_month</th>\n",
       "      <th>town</th>\n",
       "      <th>town_code</th>\n",
       "      <th>flat_type</th>\n",
       "      <th>block</th>\n",
       "      <th>street_name</th>\n",
       "      <th>storey_min</th>\n",
       "      <th>storey_max</th>\n",
       "      <th>storey_range</th>\n",
       "      <th>floor_area_sqm</th>\n",
       "      <th>flat_model</th>\n",
       "      <th>flat_modelcode</th>\n",
       "      <th>lease_commence_date</th>\n",
       "      <th>resale_price</th>\n",
       "    </tr>\n",
       "  </thead>\n",
       "  <tbody>\n",
       "    <tr>\n",
       "      <th>0</th>\n",
       "      <td>2000-01</td>\n",
       "      <td>2000</td>\n",
       "      <td>01</td>\n",
       "      <td>ANG MO KIO</td>\n",
       "      <td>0</td>\n",
       "      <td>3</td>\n",
       "      <td>170</td>\n",
       "      <td>ANG MO KIO AVE 4</td>\n",
       "      <td>07</td>\n",
       "      <td>09</td>\n",
       "      <td>07 TO 09</td>\n",
       "      <td>69.0</td>\n",
       "      <td>improved</td>\n",
       "      <td>5</td>\n",
       "      <td>1986</td>\n",
       "      <td>147000.0</td>\n",
       "    </tr>\n",
       "    <tr>\n",
       "      <th>1</th>\n",
       "      <td>2000-01</td>\n",
       "      <td>2000</td>\n",
       "      <td>01</td>\n",
       "      <td>ANG MO KIO</td>\n",
       "      <td>0</td>\n",
       "      <td>3</td>\n",
       "      <td>174</td>\n",
       "      <td>ANG MO KIO AVE 4</td>\n",
       "      <td>04</td>\n",
       "      <td>06</td>\n",
       "      <td>04 TO 06</td>\n",
       "      <td>61.0</td>\n",
       "      <td>improved</td>\n",
       "      <td>5</td>\n",
       "      <td>1986</td>\n",
       "      <td>144000.0</td>\n",
       "    </tr>\n",
       "    <tr>\n",
       "      <th>2</th>\n",
       "      <td>2000-01</td>\n",
       "      <td>2000</td>\n",
       "      <td>01</td>\n",
       "      <td>ANG MO KIO</td>\n",
       "      <td>0</td>\n",
       "      <td>3</td>\n",
       "      <td>216</td>\n",
       "      <td>ANG MO KIO AVE 1</td>\n",
       "      <td>07</td>\n",
       "      <td>09</td>\n",
       "      <td>07 TO 09</td>\n",
       "      <td>73.0</td>\n",
       "      <td>new generation</td>\n",
       "      <td>12</td>\n",
       "      <td>1976</td>\n",
       "      <td>159000.0</td>\n",
       "    </tr>\n",
       "    <tr>\n",
       "      <th>3</th>\n",
       "      <td>2000-01</td>\n",
       "      <td>2000</td>\n",
       "      <td>01</td>\n",
       "      <td>ANG MO KIO</td>\n",
       "      <td>0</td>\n",
       "      <td>3</td>\n",
       "      <td>215</td>\n",
       "      <td>ANG MO KIO AVE 1</td>\n",
       "      <td>07</td>\n",
       "      <td>09</td>\n",
       "      <td>07 TO 09</td>\n",
       "      <td>73.0</td>\n",
       "      <td>new generation</td>\n",
       "      <td>12</td>\n",
       "      <td>1976</td>\n",
       "      <td>167000.0</td>\n",
       "    </tr>\n",
       "    <tr>\n",
       "      <th>4</th>\n",
       "      <td>2000-01</td>\n",
       "      <td>2000</td>\n",
       "      <td>01</td>\n",
       "      <td>ANG MO KIO</td>\n",
       "      <td>0</td>\n",
       "      <td>3</td>\n",
       "      <td>218</td>\n",
       "      <td>ANG MO KIO AVE 1</td>\n",
       "      <td>07</td>\n",
       "      <td>09</td>\n",
       "      <td>07 TO 09</td>\n",
       "      <td>67.0</td>\n",
       "      <td>new generation</td>\n",
       "      <td>12</td>\n",
       "      <td>1976</td>\n",
       "      <td>163000.0</td>\n",
       "    </tr>\n",
       "    <tr>\n",
       "      <th>...</th>\n",
       "      <td>...</td>\n",
       "      <td>...</td>\n",
       "      <td>...</td>\n",
       "      <td>...</td>\n",
       "      <td>...</td>\n",
       "      <td>...</td>\n",
       "      <td>...</td>\n",
       "      <td>...</td>\n",
       "      <td>...</td>\n",
       "      <td>...</td>\n",
       "      <td>...</td>\n",
       "      <td>...</td>\n",
       "      <td>...</td>\n",
       "      <td>...</td>\n",
       "      <td>...</td>\n",
       "      <td>...</td>\n",
       "    </tr>\n",
       "    <tr>\n",
       "      <th>915372</th>\n",
       "      <td>2016-12</td>\n",
       "      <td>2016</td>\n",
       "      <td>12</td>\n",
       "      <td>YISHUN</td>\n",
       "      <td>26</td>\n",
       "      <td>5</td>\n",
       "      <td>297</td>\n",
       "      <td>YISHUN ST 20</td>\n",
       "      <td>13</td>\n",
       "      <td>15</td>\n",
       "      <td>13 TO 15</td>\n",
       "      <td>112.0</td>\n",
       "      <td>improved</td>\n",
       "      <td>5</td>\n",
       "      <td>2000</td>\n",
       "      <td>488000.0</td>\n",
       "    </tr>\n",
       "    <tr>\n",
       "      <th>915373</th>\n",
       "      <td>2016-12</td>\n",
       "      <td>2016</td>\n",
       "      <td>12</td>\n",
       "      <td>YISHUN</td>\n",
       "      <td>26</td>\n",
       "      <td>5</td>\n",
       "      <td>838</td>\n",
       "      <td>YISHUN ST 81</td>\n",
       "      <td>01</td>\n",
       "      <td>03</td>\n",
       "      <td>01 TO 03</td>\n",
       "      <td>122.0</td>\n",
       "      <td>improved</td>\n",
       "      <td>5</td>\n",
       "      <td>1987</td>\n",
       "      <td>455000.0</td>\n",
       "    </tr>\n",
       "    <tr>\n",
       "      <th>915374</th>\n",
       "      <td>2016-12</td>\n",
       "      <td>2016</td>\n",
       "      <td>12</td>\n",
       "      <td>YISHUN</td>\n",
       "      <td>26</td>\n",
       "      <td>6</td>\n",
       "      <td>664</td>\n",
       "      <td>YISHUN AVE 4</td>\n",
       "      <td>10</td>\n",
       "      <td>12</td>\n",
       "      <td>10 TO 12</td>\n",
       "      <td>181.0</td>\n",
       "      <td>apartment</td>\n",
       "      <td>3</td>\n",
       "      <td>1992</td>\n",
       "      <td>778000.0</td>\n",
       "    </tr>\n",
       "    <tr>\n",
       "      <th>915375</th>\n",
       "      <td>2016-12</td>\n",
       "      <td>2016</td>\n",
       "      <td>12</td>\n",
       "      <td>YISHUN</td>\n",
       "      <td>26</td>\n",
       "      <td>6</td>\n",
       "      <td>325</td>\n",
       "      <td>YISHUN CTRL</td>\n",
       "      <td>01</td>\n",
       "      <td>03</td>\n",
       "      <td>01 TO 03</td>\n",
       "      <td>146.0</td>\n",
       "      <td>maisonette</td>\n",
       "      <td>7</td>\n",
       "      <td>1988</td>\n",
       "      <td>575000.0</td>\n",
       "    </tr>\n",
       "    <tr>\n",
       "      <th>915376</th>\n",
       "      <td>2016-12</td>\n",
       "      <td>2016</td>\n",
       "      <td>12</td>\n",
       "      <td>YISHUN</td>\n",
       "      <td>26</td>\n",
       "      <td>7</td>\n",
       "      <td>666</td>\n",
       "      <td>YISHUN AVE 4</td>\n",
       "      <td>10</td>\n",
       "      <td>12</td>\n",
       "      <td>10 TO 12</td>\n",
       "      <td>164.0</td>\n",
       "      <td>multi generation</td>\n",
       "      <td>11</td>\n",
       "      <td>1987</td>\n",
       "      <td>735000.0</td>\n",
       "    </tr>\n",
       "  </tbody>\n",
       "</table>\n",
       "<p>915377 rows × 16 columns</p>\n",
       "</div>"
      ],
      "text/plain": [
       "          month selling_year selling_month        town  town_code  flat_type  \\\n",
       "0       2000-01         2000            01  ANG MO KIO          0          3   \n",
       "1       2000-01         2000            01  ANG MO KIO          0          3   \n",
       "2       2000-01         2000            01  ANG MO KIO          0          3   \n",
       "3       2000-01         2000            01  ANG MO KIO          0          3   \n",
       "4       2000-01         2000            01  ANG MO KIO          0          3   \n",
       "...         ...          ...           ...         ...        ...        ...   \n",
       "915372  2016-12         2016            12      YISHUN         26          5   \n",
       "915373  2016-12         2016            12      YISHUN         26          5   \n",
       "915374  2016-12         2016            12      YISHUN         26          6   \n",
       "915375  2016-12         2016            12      YISHUN         26          6   \n",
       "915376  2016-12         2016            12      YISHUN         26          7   \n",
       "\n",
       "       block       street_name storey_min storey_max storey_range  \\\n",
       "0        170  ANG MO KIO AVE 4         07         09     07 TO 09   \n",
       "1        174  ANG MO KIO AVE 4         04         06     04 TO 06   \n",
       "2        216  ANG MO KIO AVE 1         07         09     07 TO 09   \n",
       "3        215  ANG MO KIO AVE 1         07         09     07 TO 09   \n",
       "4        218  ANG MO KIO AVE 1         07         09     07 TO 09   \n",
       "...      ...               ...        ...        ...          ...   \n",
       "915372   297      YISHUN ST 20         13         15     13 TO 15   \n",
       "915373   838      YISHUN ST 81         01         03     01 TO 03   \n",
       "915374   664      YISHUN AVE 4         10         12     10 TO 12   \n",
       "915375   325       YISHUN CTRL         01         03     01 TO 03   \n",
       "915376   666      YISHUN AVE 4         10         12     10 TO 12   \n",
       "\n",
       "        floor_area_sqm        flat_model  flat_modelcode  lease_commence_date  \\\n",
       "0                 69.0          improved               5                 1986   \n",
       "1                 61.0          improved               5                 1986   \n",
       "2                 73.0    new generation              12                 1976   \n",
       "3                 73.0    new generation              12                 1976   \n",
       "4                 67.0    new generation              12                 1976   \n",
       "...                ...               ...             ...                  ...   \n",
       "915372           112.0          improved               5                 2000   \n",
       "915373           122.0          improved               5                 1987   \n",
       "915374           181.0         apartment               3                 1992   \n",
       "915375           146.0        maisonette               7                 1988   \n",
       "915376           164.0  multi generation              11                 1987   \n",
       "\n",
       "        resale_price  \n",
       "0           147000.0  \n",
       "1           144000.0  \n",
       "2           159000.0  \n",
       "3           167000.0  \n",
       "4           163000.0  \n",
       "...              ...  \n",
       "915372      488000.0  \n",
       "915373      455000.0  \n",
       "915374      778000.0  \n",
       "915375      575000.0  \n",
       "915376      735000.0  \n",
       "\n",
       "[915377 rows x 16 columns]"
      ]
     },
     "execution_count": 39,
     "metadata": {},
     "output_type": "execute_result"
    }
   ],
   "source": [
    "df"
   ]
  },
  {
   "cell_type": "code",
   "execution_count": 40,
   "id": "f5bf5fa5-9478-45f0-ae30-9f45355f13d4",
   "metadata": {},
   "outputs": [],
   "source": [
    "df.to_csv(\"C:/Users/navin/OneDrive/Desktop/singapore/singapore.csv\")\n",
    "     "
   ]
  },
  {
   "cell_type": "code",
   "execution_count": 41,
   "id": "c02600ee-8109-4a8e-aed9-d631c1540dd9",
   "metadata": {},
   "outputs": [
    {
     "data": {
      "text/html": [
       "<div>\n",
       "<style scoped>\n",
       "    .dataframe tbody tr th:only-of-type {\n",
       "        vertical-align: middle;\n",
       "    }\n",
       "\n",
       "    .dataframe tbody tr th {\n",
       "        vertical-align: top;\n",
       "    }\n",
       "\n",
       "    .dataframe thead th {\n",
       "        text-align: right;\n",
       "    }\n",
       "</style>\n",
       "<table border=\"1\" class=\"dataframe\">\n",
       "  <thead>\n",
       "    <tr style=\"text-align: right;\">\n",
       "      <th></th>\n",
       "      <th>month</th>\n",
       "      <th>selling_year</th>\n",
       "      <th>selling_month</th>\n",
       "      <th>town</th>\n",
       "      <th>town_code</th>\n",
       "      <th>flat_type</th>\n",
       "      <th>block</th>\n",
       "      <th>street_name</th>\n",
       "      <th>storey_min</th>\n",
       "      <th>storey_max</th>\n",
       "      <th>storey_range</th>\n",
       "      <th>floor_area_sqm</th>\n",
       "      <th>flat_model</th>\n",
       "      <th>flat_modelcode</th>\n",
       "      <th>lease_commence_date</th>\n",
       "      <th>resale_price</th>\n",
       "    </tr>\n",
       "  </thead>\n",
       "  <tbody>\n",
       "    <tr>\n",
       "      <th>0</th>\n",
       "      <td>2000-01</td>\n",
       "      <td>2000</td>\n",
       "      <td>01</td>\n",
       "      <td>ANG MO KIO</td>\n",
       "      <td>0</td>\n",
       "      <td>3</td>\n",
       "      <td>170</td>\n",
       "      <td>ANG MO KIO AVE 4</td>\n",
       "      <td>07</td>\n",
       "      <td>09</td>\n",
       "      <td>07 TO 09</td>\n",
       "      <td>69.0</td>\n",
       "      <td>improved</td>\n",
       "      <td>5</td>\n",
       "      <td>1986</td>\n",
       "      <td>147000.0</td>\n",
       "    </tr>\n",
       "    <tr>\n",
       "      <th>1</th>\n",
       "      <td>2000-01</td>\n",
       "      <td>2000</td>\n",
       "      <td>01</td>\n",
       "      <td>ANG MO KIO</td>\n",
       "      <td>0</td>\n",
       "      <td>3</td>\n",
       "      <td>174</td>\n",
       "      <td>ANG MO KIO AVE 4</td>\n",
       "      <td>04</td>\n",
       "      <td>06</td>\n",
       "      <td>04 TO 06</td>\n",
       "      <td>61.0</td>\n",
       "      <td>improved</td>\n",
       "      <td>5</td>\n",
       "      <td>1986</td>\n",
       "      <td>144000.0</td>\n",
       "    </tr>\n",
       "    <tr>\n",
       "      <th>2</th>\n",
       "      <td>2000-01</td>\n",
       "      <td>2000</td>\n",
       "      <td>01</td>\n",
       "      <td>ANG MO KIO</td>\n",
       "      <td>0</td>\n",
       "      <td>3</td>\n",
       "      <td>216</td>\n",
       "      <td>ANG MO KIO AVE 1</td>\n",
       "      <td>07</td>\n",
       "      <td>09</td>\n",
       "      <td>07 TO 09</td>\n",
       "      <td>73.0</td>\n",
       "      <td>new generation</td>\n",
       "      <td>12</td>\n",
       "      <td>1976</td>\n",
       "      <td>159000.0</td>\n",
       "    </tr>\n",
       "    <tr>\n",
       "      <th>3</th>\n",
       "      <td>2000-01</td>\n",
       "      <td>2000</td>\n",
       "      <td>01</td>\n",
       "      <td>ANG MO KIO</td>\n",
       "      <td>0</td>\n",
       "      <td>3</td>\n",
       "      <td>215</td>\n",
       "      <td>ANG MO KIO AVE 1</td>\n",
       "      <td>07</td>\n",
       "      <td>09</td>\n",
       "      <td>07 TO 09</td>\n",
       "      <td>73.0</td>\n",
       "      <td>new generation</td>\n",
       "      <td>12</td>\n",
       "      <td>1976</td>\n",
       "      <td>167000.0</td>\n",
       "    </tr>\n",
       "    <tr>\n",
       "      <th>4</th>\n",
       "      <td>2000-01</td>\n",
       "      <td>2000</td>\n",
       "      <td>01</td>\n",
       "      <td>ANG MO KIO</td>\n",
       "      <td>0</td>\n",
       "      <td>3</td>\n",
       "      <td>218</td>\n",
       "      <td>ANG MO KIO AVE 1</td>\n",
       "      <td>07</td>\n",
       "      <td>09</td>\n",
       "      <td>07 TO 09</td>\n",
       "      <td>67.0</td>\n",
       "      <td>new generation</td>\n",
       "      <td>12</td>\n",
       "      <td>1976</td>\n",
       "      <td>163000.0</td>\n",
       "    </tr>\n",
       "  </tbody>\n",
       "</table>\n",
       "</div>"
      ],
      "text/plain": [
       "     month selling_year selling_month        town  town_code  flat_type block  \\\n",
       "0  2000-01         2000            01  ANG MO KIO          0          3   170   \n",
       "1  2000-01         2000            01  ANG MO KIO          0          3   174   \n",
       "2  2000-01         2000            01  ANG MO KIO          0          3   216   \n",
       "3  2000-01         2000            01  ANG MO KIO          0          3   215   \n",
       "4  2000-01         2000            01  ANG MO KIO          0          3   218   \n",
       "\n",
       "        street_name storey_min storey_max storey_range  floor_area_sqm  \\\n",
       "0  ANG MO KIO AVE 4         07         09     07 TO 09            69.0   \n",
       "1  ANG MO KIO AVE 4         04         06     04 TO 06            61.0   \n",
       "2  ANG MO KIO AVE 1         07         09     07 TO 09            73.0   \n",
       "3  ANG MO KIO AVE 1         07         09     07 TO 09            73.0   \n",
       "4  ANG MO KIO AVE 1         07         09     07 TO 09            67.0   \n",
       "\n",
       "       flat_model  flat_modelcode  lease_commence_date  resale_price  \n",
       "0        improved               5                 1986      147000.0  \n",
       "1        improved               5                 1986      144000.0  \n",
       "2  new generation              12                 1976      159000.0  \n",
       "3  new generation              12                 1976      167000.0  \n",
       "4  new generation              12                 1976      163000.0  "
      ]
     },
     "execution_count": 41,
     "metadata": {},
     "output_type": "execute_result"
    }
   ],
   "source": [
    "df.head()"
   ]
  },
  {
   "cell_type": "code",
   "execution_count": null,
   "id": "3e8c4ba6",
   "metadata": {},
   "outputs": [],
   "source": []
  },
  {
   "cell_type": "code",
   "execution_count": 42,
   "id": "678732db-40fc-4486-9989-302cd812be92",
   "metadata": {},
   "outputs": [
    {
     "data": {
      "text/plain": [
       "month                   object\n",
       "selling_year            object\n",
       "selling_month           object\n",
       "town                    object\n",
       "town_code                int32\n",
       "flat_type                int64\n",
       "block                   object\n",
       "street_name             object\n",
       "storey_min              object\n",
       "storey_max              object\n",
       "storey_range            object\n",
       "floor_area_sqm         float64\n",
       "flat_model              object\n",
       "flat_modelcode           int32\n",
       "lease_commence_date      int64\n",
       "resale_price           float64\n",
       "dtype: object"
      ]
     },
     "execution_count": 42,
     "metadata": {},
     "output_type": "execute_result"
    }
   ],
   "source": [
    "# Dealing with datatypes\n",
    "# Datatyppe of the columns\n",
    "df.dtypes\n"
   ]
  },
  {
   "cell_type": "code",
   "execution_count": 43,
   "id": "7b2d4e98-8356-43d4-b495-130dcc5ded5b",
   "metadata": {},
   "outputs": [],
   "source": [
    "# Changing the datatype of numeric columns\n",
    "df[['selling_year','selling_month','storey_min','storey_max']] = df[['selling_year','selling_month','storey_min','storey_max']]\n"
   ]
  },
  {
   "cell_type": "code",
   "execution_count": 44,
   "id": "2544516d-1754-450d-8d18-5b873c154f42",
   "metadata": {},
   "outputs": [
    {
     "data": {
      "text/plain": [
       "month                   object\n",
       "selling_year            object\n",
       "selling_month           object\n",
       "town                    object\n",
       "town_code                int32\n",
       "flat_type                int64\n",
       "block                   object\n",
       "street_name             object\n",
       "storey_min              object\n",
       "storey_max              object\n",
       "storey_range            object\n",
       "floor_area_sqm         float64\n",
       "flat_model              object\n",
       "flat_modelcode           int32\n",
       "lease_commence_date      int64\n",
       "resale_price           float64\n",
       "dtype: object"
      ]
     },
     "execution_count": 44,
     "metadata": {},
     "output_type": "execute_result"
    }
   ],
   "source": [
    "# Datatyppe of the columns\n",
    "df.dtypes"
   ]
  },
  {
   "cell_type": "code",
   "execution_count": 45,
   "id": "797ce919-e3fe-4f34-8b97-cf903a0a920a",
   "metadata": {},
   "outputs": [
    {
     "data": {
      "text/plain": [
       "<Axes: >"
      ]
     },
     "execution_count": 45,
     "metadata": {},
     "output_type": "execute_result"
    },
    {
     "data": {
      "image/png": "[encoded data removed]",
      "text/plain": [
       "<Figure size 640x480 with 2 Axes>"
      ]
     },
     "metadata": {},
     "output_type": "display_data"
    }
   ],
   "source": [
    "# Correlation matrix\n",
    "corr_df = df[['selling_year','selling_month','town_code','storey_min','storey_max','floor_area_sqm','flat_modelcode','lease_commence_date','resale_price']].dropna().corr()\n",
    "sns.heatmap(corr_df,  cmap=\"Reds\",annot = True)"
   ]
  },
  {
   "cell_type": "markdown",
   "id": "e5906ec3-0f5d-4fc0-869d-dcf2459e630e",
   "metadata": {},
   "source": [
    "Training the model"
   ]
  },
  {
   "cell_type": "code",
   "execution_count": 46,
   "id": "9d39b6dc-3791-4ca6-afce-e2470965d53e",
   "metadata": {},
   "outputs": [],
   "source": [
    "# create x and y variables   \n",
    "X = df[['selling_year','selling_month','town_code','storey_min','storey_max','floor_area_sqm','flat_modelcode','lease_commence_date','resale_price']]\n",
    "y = df['resale_price']"
   ]
  },
  {
   "cell_type": "code",
   "execution_count": 47,
   "id": "4a7a4212-9563-4d8a-be27-d79dad879917",
   "metadata": {},
   "outputs": [],
   "source": [
    "# Splitting the data\n",
    "# Importing the split\n",
    "from sklearn.model_selection import train_test_split"
   ]
  },
  {
   "cell_type": "code",
   "execution_count": 48,
   "id": "2fe00c04-e4da-42b4-a310-a48502081b7c",
   "metadata": {},
   "outputs": [],
   "source": [
    "# Objecting the split data\n",
    "X_train, X_test, y_train, y_test = train_test_split(X, y, test_size = 0.33, random_state = 42)"
   ]
  },
  {
   "cell_type": "markdown",
   "id": "cbe933fc-8d3b-4504-83bf-6836d30cfbdc",
   "metadata": {},
   "source": [
    "Linear Regression"
   ]
  },
  {
   "cell_type": "code",
   "execution_count": 49,
   "id": "dc2f096f-ee0a-4536-bea6-3a8b6c10e153",
   "metadata": {},
   "outputs": [
    {
     "data": {
      "text/html": [
       "<style>#sk-container-id-1 {color: black;}#sk-container-id-1 pre{padding: 0;}#sk-container-id-1 div.sk-toggleable {background-color: white;}#sk-container-id-1 label.sk-toggleable__label {cursor: pointer;display: block;width: 100%;margin-bottom: 0;padding: 0.3em;box-sizing: border-box;text-align: center;}#sk-container-id-1 label.sk-toggleable__label-arrow:before {content: \"▸\";float: left;margin-right: 0.25em;color: #696969;}#sk-container-id-1 label.sk-toggleable__label-arrow:hover:before {color: black;}#sk-container-id-1 div.sk-estimator:hover label.sk-toggleable__label-arrow:before {color: black;}#sk-container-id-1 div.sk-toggleable__content {max-height: 0;max-width: 0;overflow: hidden;text-align: left;background-color: #f0f8ff;}#sk-container-id-1 div.sk-toggleable__content pre {margin: 0.2em;color: black;border-radius: 0.25em;background-color: #f0f8ff;}#sk-container-id-1 input.sk-toggleable__control:checked~div.sk-toggleable__content {max-height: 200px;max-width: 100%;overflow: auto;}#sk-container-id-1 input.sk-toggleable__control:checked~label.sk-toggleable__label-arrow:before {content: \"▾\";}#sk-container-id-1 div.sk-estimator input.sk-toggleable__control:checked~label.sk-toggleable__label {background-color: #d4ebff;}#sk-container-id-1 div.sk-label input.sk-toggleable__control:checked~label.sk-toggleable__label {background-color: #d4ebff;}#sk-container-id-1 input.sk-hidden--visually {border: 0;clip: rect(1px 1px 1px 1px);clip: rect(1px, 1px, 1px, 1px);height: 1px;margin: -1px;overflow: hidden;padding: 0;position: absolute;width: 1px;}#sk-container-id-1 div.sk-estimator {font-family: monospace;background-color: #f0f8ff;border: 1px dotted black;border-radius: 0.25em;box-sizing: border-box;margin-bottom: 0.5em;}#sk-container-id-1 div.sk-estimator:hover {background-color: #d4ebff;}#sk-container-id-1 div.sk-parallel-item::after {content: \"\";width: 100%;border-bottom: 1px solid gray;flex-grow: 1;}#sk-container-id-1 div.sk-label:hover label.sk-toggleable__label {background-color: #d4ebff;}#sk-container-id-1 div.sk-serial::before {content: \"\";position: absolute;border-left: 1px solid gray;box-sizing: border-box;top: 0;bottom: 0;left: 50%;z-index: 0;}#sk-container-id-1 div.sk-serial {display: flex;flex-direction: column;align-items: center;background-color: white;padding-right: 0.2em;padding-left: 0.2em;position: relative;}#sk-container-id-1 div.sk-item {position: relative;z-index: 1;}#sk-container-id-1 div.sk-parallel {display: flex;align-items: stretch;justify-content: center;background-color: white;position: relative;}#sk-container-id-1 div.sk-item::before, #sk-container-id-1 div.sk-parallel-item::before {content: \"\";position: absolute;border-left: 1px solid gray;box-sizing: border-box;top: 0;bottom: 0;left: 50%;z-index: -1;}#sk-container-id-1 div.sk-parallel-item {display: flex;flex-direction: column;z-index: 1;position: relative;background-color: white;}#sk-container-id-1 div.sk-parallel-item:first-child::after {align-self: flex-end;width: 50%;}#sk-container-id-1 div.sk-parallel-item:last-child::after {align-self: flex-start;width: 50%;}#sk-container-id-1 div.sk-parallel-item:only-child::after {width: 0;}#sk-container-id-1 div.sk-dashed-wrapped {border: 1px dashed gray;margin: 0 0.4em 0.5em 0.4em;box-sizing: border-box;padding-bottom: 0.4em;background-color: white;}#sk-container-id-1 div.sk-label label {font-family: monospace;font-weight: bold;display: inline-block;line-height: 1.2em;}#sk-container-id-1 div.sk-label-container {text-align: center;}#sk-container-id-1 div.sk-container {/* jupyter's `normalize.less` sets `[hidden] { display: none; }` but bootstrap.min.css set `[hidden] { display: none !important; }` so we also need the `!important` here to be able to override the default hidden behavior on the sphinx rendered scikit-learn.org. See: https://github.com/scikit-learn/scikit-learn/issues/21755 */display: inline-block !important;position: relative;}#sk-container-id-1 div.sk-text-repr-fallback {display: none;}</style><div id=\"sk-container-id-1\" class=\"sk-top-container\"><div class=\"sk-text-repr-fallback\"><pre>LinearRegression()</pre><b>In a Jupyter environment, please rerun this cell to show the HTML representation or trust the notebook. <br />On GitHub, the HTML representation is unable to render, please try loading this page with nbviewer.org.</b></div><div class=\"sk-container\" hidden><div class=\"sk-item\"><div class=\"sk-estimator sk-toggleable\"><input class=\"sk-toggleable__control sk-hidden--visually\" id=\"sk-estimator-id-1\" type=\"checkbox\" checked><label for=\"sk-estimator-id-1\" class=\"sk-toggleable__label sk-toggleable__label-arrow\">LinearRegression</label><div class=\"sk-toggleable__content\"><pre>LinearRegression()</pre></div></div></div></div></div>"
      ],
      "text/plain": [
       "LinearRegression()"
      ]
     },
     "execution_count": 49,
     "metadata": {},
     "output_type": "execute_result"
    }
   ],
   "source": [
    "# Create a regressor\n",
    "from sklearn.linear_model import LinearRegression\n",
    "\n",
    "# Create a regressor object\n",
    "lin_reg = LinearRegression()\n",
    "\n",
    "# fit the model with X-train and y_train data\n",
    "lin_reg.fit(X_train,y_train)"
   ]
  },
  {
   "cell_type": "code",
   "execution_count": 50,
   "id": "845accb0-d37f-474e-ac7e-a7f391a6047c",
   "metadata": {},
   "outputs": [
    {
     "name": "stdout",
     "output_type": "stream",
     "text": [
      "100.0 %\n"
     ]
    }
   ],
   "source": [
    "# Accuracy score of the model\n",
    "score = lin_reg.score(X_test,y_test)\n",
    "print(score * 100,\"%\")"
   ]
  },
  {
   "cell_type": "markdown",
   "id": "3deedf73-5f35-47d2-921e-41abaa247049",
   "metadata": {},
   "source": [
    "Decision Tree Regressor"
   ]
  },
  {
   "cell_type": "code",
   "execution_count": 51,
   "id": "90ffa264-4862-4d00-98a0-7ba3f031ba07",
   "metadata": {},
   "outputs": [
    {
     "data": {
      "text/html": [
       "<style>#sk-container-id-2 {color: black;}#sk-container-id-2 pre{padding: 0;}#sk-container-id-2 div.sk-toggleable {background-color: white;}#sk-container-id-2 label.sk-toggleable__label {cursor: pointer;display: block;width: 100%;margin-bottom: 0;padding: 0.3em;box-sizing: border-box;text-align: center;}#sk-container-id-2 label.sk-toggleable__label-arrow:before {content: \"▸\";float: left;margin-right: 0.25em;color: #696969;}#sk-container-id-2 label.sk-toggleable__label-arrow:hover:before {color: black;}#sk-container-id-2 div.sk-estimator:hover label.sk-toggleable__label-arrow:before {color: black;}#sk-container-id-2 div.sk-toggleable__content {max-height: 0;max-width: 0;overflow: hidden;text-align: left;background-color: #f0f8ff;}#sk-container-id-2 div.sk-toggleable__content pre {margin: 0.2em;color: black;border-radius: 0.25em;background-color: #f0f8ff;}#sk-container-id-2 input.sk-toggleable__control:checked~div.sk-toggleable__content {max-height: 200px;max-width: 100%;overflow: auto;}#sk-container-id-2 input.sk-toggleable__control:checked~label.sk-toggleable__label-arrow:before {content: \"▾\";}#sk-container-id-2 div.sk-estimator input.sk-toggleable__control:checked~label.sk-toggleable__label {background-color: #d4ebff;}#sk-container-id-2 div.sk-label input.sk-toggleable__control:checked~label.sk-toggleable__label {background-color: #d4ebff;}#sk-container-id-2 input.sk-hidden--visually {border: 0;clip: rect(1px 1px 1px 1px);clip: rect(1px, 1px, 1px, 1px);height: 1px;margin: -1px;overflow: hidden;padding: 0;position: absolute;width: 1px;}#sk-container-id-2 div.sk-estimator {font-family: monospace;background-color: #f0f8ff;border: 1px dotted black;border-radius: 0.25em;box-sizing: border-box;margin-bottom: 0.5em;}#sk-container-id-2 div.sk-estimator:hover {background-color: #d4ebff;}#sk-container-id-2 div.sk-parallel-item::after {content: \"\";width: 100%;border-bottom: 1px solid gray;flex-grow: 1;}#sk-container-id-2 div.sk-label:hover label.sk-toggleable__label {background-color: #d4ebff;}#sk-container-id-2 div.sk-serial::before {content: \"\";position: absolute;border-left: 1px solid gray;box-sizing: border-box;top: 0;bottom: 0;left: 50%;z-index: 0;}#sk-container-id-2 div.sk-serial {display: flex;flex-direction: column;align-items: center;background-color: white;padding-right: 0.2em;padding-left: 0.2em;position: relative;}#sk-container-id-2 div.sk-item {position: relative;z-index: 1;}#sk-container-id-2 div.sk-parallel {display: flex;align-items: stretch;justify-content: center;background-color: white;position: relative;}#sk-container-id-2 div.sk-item::before, #sk-container-id-2 div.sk-parallel-item::before {content: \"\";position: absolute;border-left: 1px solid gray;box-sizing: border-box;top: 0;bottom: 0;left: 50%;z-index: -1;}#sk-container-id-2 div.sk-parallel-item {display: flex;flex-direction: column;z-index: 1;position: relative;background-color: white;}#sk-container-id-2 div.sk-parallel-item:first-child::after {align-self: flex-end;width: 50%;}#sk-container-id-2 div.sk-parallel-item:last-child::after {align-self: flex-start;width: 50%;}#sk-container-id-2 div.sk-parallel-item:only-child::after {width: 0;}#sk-container-id-2 div.sk-dashed-wrapped {border: 1px dashed gray;margin: 0 0.4em 0.5em 0.4em;box-sizing: border-box;padding-bottom: 0.4em;background-color: white;}#sk-container-id-2 div.sk-label label {font-family: monospace;font-weight: bold;display: inline-block;line-height: 1.2em;}#sk-container-id-2 div.sk-label-container {text-align: center;}#sk-container-id-2 div.sk-container {/* jupyter's `normalize.less` sets `[hidden] { display: none; }` but bootstrap.min.css set `[hidden] { display: none !important; }` so we also need the `!important` here to be able to override the default hidden behavior on the sphinx rendered scikit-learn.org. See: https://github.com/scikit-learn/scikit-learn/issues/21755 */display: inline-block !important;position: relative;}#sk-container-id-2 div.sk-text-repr-fallback {display: none;}</style><div id=\"sk-container-id-2\" class=\"sk-top-container\"><div class=\"sk-text-repr-fallback\"><pre>DecisionTreeRegressor(random_state=0)</pre><b>In a Jupyter environment, please rerun this cell to show the HTML representation or trust the notebook. <br />On GitHub, the HTML representation is unable to render, please try loading this page with nbviewer.org.</b></div><div class=\"sk-container\" hidden><div class=\"sk-item\"><div class=\"sk-estimator sk-toggleable\"><input class=\"sk-toggleable__control sk-hidden--visually\" id=\"sk-estimator-id-2\" type=\"checkbox\" checked><label for=\"sk-estimator-id-2\" class=\"sk-toggleable__label sk-toggleable__label-arrow\">DecisionTreeRegressor</label><div class=\"sk-toggleable__content\"><pre>DecisionTreeRegressor(random_state=0)</pre></div></div></div></div></div>"
      ],
      "text/plain": [
       "DecisionTreeRegressor(random_state=0)"
      ]
     },
     "execution_count": 51,
     "metadata": {},
     "output_type": "execute_result"
    }
   ],
   "source": [
    "# import the regressor\n",
    "from sklearn.tree import DecisionTreeRegressor  \n",
    "  \n",
    "# create a regressor object \n",
    "Dt_reg = DecisionTreeRegressor(random_state = 0)  \n",
    "  \n",
    "# fit the model with X-train and y_train data \n",
    "Dt_reg.fit(X_train, y_train)"
   ]
  },
  {
   "cell_type": "code",
   "execution_count": 52,
   "id": "115dc198-dfc2-4371-b3c4-288c91b69636",
   "metadata": {},
   "outputs": [
    {
     "name": "stdout",
     "output_type": "stream",
     "text": [
      "99.99993627953238 %\n"
     ]
    }
   ],
   "source": [
    "# Accuracy of the model\n",
    "score = Dt_reg.score(X_test,y_test)\n",
    "print(score * 100,\"%\")"
   ]
  },
  {
   "cell_type": "markdown",
   "id": "3ef1a4b5-b779-4eee-b8e8-866f74049617",
   "metadata": {},
   "source": [
    "Random Forest Regressor"
   ]
  },
  {
   "cell_type": "code",
   "execution_count": 53,
   "id": "df276199-33c7-4633-a394-2e9ebf905274",
   "metadata": {},
   "outputs": [
    {
     "data": {
      "text/html": [
       "<style>#sk-container-id-3 {color: black;}#sk-container-id-3 pre{padding: 0;}#sk-container-id-3 div.sk-toggleable {background-color: white;}#sk-container-id-3 label.sk-toggleable__label {cursor: pointer;display: block;width: 100%;margin-bottom: 0;padding: 0.3em;box-sizing: border-box;text-align: center;}#sk-container-id-3 label.sk-toggleable__label-arrow:before {content: \"▸\";float: left;margin-right: 0.25em;color: #696969;}#sk-container-id-3 label.sk-toggleable__label-arrow:hover:before {color: black;}#sk-container-id-3 div.sk-estimator:hover label.sk-toggleable__label-arrow:before {color: black;}#sk-container-id-3 div.sk-toggleable__content {max-height: 0;max-width: 0;overflow: hidden;text-align: left;background-color: #f0f8ff;}#sk-container-id-3 div.sk-toggleable__content pre {margin: 0.2em;color: black;border-radius: 0.25em;background-color: #f0f8ff;}#sk-container-id-3 input.sk-toggleable__control:checked~div.sk-toggleable__content {max-height: 200px;max-width: 100%;overflow: auto;}#sk-container-id-3 input.sk-toggleable__control:checked~label.sk-toggleable__label-arrow:before {content: \"▾\";}#sk-container-id-3 div.sk-estimator input.sk-toggleable__control:checked~label.sk-toggleable__label {background-color: #d4ebff;}#sk-container-id-3 div.sk-label input.sk-toggleable__control:checked~label.sk-toggleable__label {background-color: #d4ebff;}#sk-container-id-3 input.sk-hidden--visually {border: 0;clip: rect(1px 1px 1px 1px);clip: rect(1px, 1px, 1px, 1px);height: 1px;margin: -1px;overflow: hidden;padding: 0;position: absolute;width: 1px;}#sk-container-id-3 div.sk-estimator {font-family: monospace;background-color: #f0f8ff;border: 1px dotted black;border-radius: 0.25em;box-sizing: border-box;margin-bottom: 0.5em;}#sk-container-id-3 div.sk-estimator:hover {background-color: #d4ebff;}#sk-container-id-3 div.sk-parallel-item::after {content: \"\";width: 100%;border-bottom: 1px solid gray;flex-grow: 1;}#sk-container-id-3 div.sk-label:hover label.sk-toggleable__label {background-color: #d4ebff;}#sk-container-id-3 div.sk-serial::before {content: \"\";position: absolute;border-left: 1px solid gray;box-sizing: border-box;top: 0;bottom: 0;left: 50%;z-index: 0;}#sk-container-id-3 div.sk-serial {display: flex;flex-direction: column;align-items: center;background-color: white;padding-right: 0.2em;padding-left: 0.2em;position: relative;}#sk-container-id-3 div.sk-item {position: relative;z-index: 1;}#sk-container-id-3 div.sk-parallel {display: flex;align-items: stretch;justify-content: center;background-color: white;position: relative;}#sk-container-id-3 div.sk-item::before, #sk-container-id-3 div.sk-parallel-item::before {content: \"\";position: absolute;border-left: 1px solid gray;box-sizing: border-box;top: 0;bottom: 0;left: 50%;z-index: -1;}#sk-container-id-3 div.sk-parallel-item {display: flex;flex-direction: column;z-index: 1;position: relative;background-color: white;}#sk-container-id-3 div.sk-parallel-item:first-child::after {align-self: flex-end;width: 50%;}#sk-container-id-3 div.sk-parallel-item:last-child::after {align-self: flex-start;width: 50%;}#sk-container-id-3 div.sk-parallel-item:only-child::after {width: 0;}#sk-container-id-3 div.sk-dashed-wrapped {border: 1px dashed gray;margin: 0 0.4em 0.5em 0.4em;box-sizing: border-box;padding-bottom: 0.4em;background-color: white;}#sk-container-id-3 div.sk-label label {font-family: monospace;font-weight: bold;display: inline-block;line-height: 1.2em;}#sk-container-id-3 div.sk-label-container {text-align: center;}#sk-container-id-3 div.sk-container {/* jupyter's `normalize.less` sets `[hidden] { display: none; }` but bootstrap.min.css set `[hidden] { display: none !important; }` so we also need the `!important` here to be able to override the default hidden behavior on the sphinx rendered scikit-learn.org. See: https://github.com/scikit-learn/scikit-learn/issues/21755 */display: inline-block !important;position: relative;}#sk-container-id-3 div.sk-text-repr-fallback {display: none;}</style><div id=\"sk-container-id-3\" class=\"sk-top-container\"><div class=\"sk-text-repr-fallback\"><pre>RandomForestRegressor(random_state=0)</pre><b>In a Jupyter environment, please rerun this cell to show the HTML representation or trust the notebook. <br />On GitHub, the HTML representation is unable to render, please try loading this page with nbviewer.org.</b></div><div class=\"sk-container\" hidden><div class=\"sk-item\"><div class=\"sk-estimator sk-toggleable\"><input class=\"sk-toggleable__control sk-hidden--visually\" id=\"sk-estimator-id-3\" type=\"checkbox\" checked><label for=\"sk-estimator-id-3\" class=\"sk-toggleable__label sk-toggleable__label-arrow\">RandomForestRegressor</label><div class=\"sk-toggleable__content\"><pre>RandomForestRegressor(random_state=0)</pre></div></div></div></div></div>"
      ],
      "text/plain": [
       "RandomForestRegressor(random_state=0)"
      ]
     },
     "execution_count": 53,
     "metadata": {},
     "output_type": "execute_result"
    }
   ],
   "source": [
    "# Create a regressor\n",
    "from sklearn.ensemble import RandomForestRegressor\n",
    "\n",
    "# Create a regressor object\n",
    "rf_reg = RandomForestRegressor(n_estimators=100, random_state=0)\n",
    "\n",
    "# fit the model with X-train and y_train data\n",
    "rf_reg.fit(X_train, y_train)"
   ]
  },
  {
   "cell_type": "code",
   "execution_count": 54,
   "id": "cf46a3d3-784e-494b-afb5-999457433741",
   "metadata": {},
   "outputs": [
    {
     "name": "stdout",
     "output_type": "stream",
     "text": [
      "99.99982215479419 %\n"
     ]
    }
   ],
   "source": [
    "# Accuracy of the model\n",
    "score = rf_reg.score(X_test,y_test)\n",
    "print(score * 100,\"%\")"
   ]
  },
  {
   "cell_type": "markdown",
   "id": "a754db9c-7395-4ba9-bb33-7a8460ab8a51",
   "metadata": {},
   "source": [
    "Pickling the Linear Regression trained knowledge to build streamlit ML model web page"
   ]
  },
  {
   "cell_type": "code",
   "execution_count": 55,
   "id": "3ac034ef-9dbf-4e27-a595-b0edb45443ba",
   "metadata": {},
   "outputs": [],
   "source": [
    "# Pickling the trained model\n",
    "# Importing the pickle package\n",
    "import pickle\n",
    "\n",
    "with open(\"resale_rfr_pkl\",\"wb\") as files:\n",
    "  pickle.dump(rf_reg, files)\n"
   ]
  },
  {
   "cell_type": "code",
   "execution_count": 56,
   "id": "ce315058-b7be-41e2-a8e5-94c85d619e77",
   "metadata": {},
   "outputs": [],
   "source": [
    "# Pickling the trained model\n",
    "# Importing the pickle package\n",
    "import pickle\n",
    "\n",
    "with open(\"resale_linr_pkl\",\"wb\") as files:\n",
    "  pickle.dump(lin_reg, files)"
   ]
  },
  {
   "cell_type": "code",
   "execution_count": null,
   "id": "f0674083-f9d8-45c4-b7f4-003cc6d3629b",
   "metadata": {},
   "outputs": [],
   "source": []
  },
  {
   "cell_type": "code",
   "execution_count": null,
   "id": "b7257453",
   "metadata": {},
   "outputs": [],
   "source": []
  }
 ],
 "metadata": {
  "kernelspec": {
   "display_name": "Python 3 (ipykernel)",
   "language": "python",
   "name": "python3"
  },
  "language_info": {
   "codemirror_mode": {
    "name": "ipython",
    "version": 3
   },
   "file_extension": ".py",
   "mimetype": "text/x-python",
   "name": "python",
   "nbconvert_exporter": "python",
   "pygments_lexer": "ipython3",
   "version": "3.11.5"
  }
 },
 "nbformat": 4,
 "nbformat_minor": 5
}
